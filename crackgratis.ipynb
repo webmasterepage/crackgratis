{
  "nbformat": 4,
  "nbformat_minor": 0,
  "metadata": {
    "colab": {
      "name": "Penglab.ipynb",
      "provenance": [],
      "collapsed_sections": []
    },
    "kernelspec": {
      "name": "python3",
      "display_name": "Python 3"
    },
    "accelerator": "GPU"
  },
  "cells": [
    {
      "cell_type": "code",
      "metadata": {
        "id": "7ucWO9luB4RG",
        "colab_type": "code",
        "colab": {}
      },
      "source": [
        "# Put your code here :\n",
        "# !hashcat -h\n",
        "# !john --help"
      ],
      "execution_count": 0,
      "outputs": []
    }
  ]
}
