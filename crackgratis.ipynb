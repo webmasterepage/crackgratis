{
  "nbformat": 4,
  "nbformat_minor": 0,
  "metadata": {
    "colab": {
      "name": "Penglab.ipynb",
      "provenance": [],
      "collapsed_sections": []
    },
    "kernelspec": {
      "name": "python3",
      "display_name": "Python 3"
    },
    "accelerator": "GPU"
  },
  "cells": [
    {
      "cell_type": "code",
      "metadata": {
        "id": "vp4LSKizX-8E",
        "colab_type": "code",
        "colab": {}
      },
      "source": [
#NGECRACK GRATIS

#INSTALL
hashcat = True

#CMD
python_shell = True

# Requeriments
Voucher=''
#---------------------------
